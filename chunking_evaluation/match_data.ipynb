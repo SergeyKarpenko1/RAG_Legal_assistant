{
 "cells": [
  {
   "cell_type": "code",
   "execution_count": 1,
   "metadata": {},
   "outputs": [
    {
     "name": "stdout",
     "output_type": "stream",
     "text": [
      "Все отрывки совпадают с содержимым файла.\n"
     ]
    }
   ],
   "source": [
    "import pandas as pd\n",
    "import json\n",
    "\n",
    "# 1. Укажите свои пути\n",
    "csv_path  = '/Users/sergey/Desktop/RAG_Legal_asist/RAG_Legal_assistant/Fine_tune_Embeddings/decoded_queries_Chunking_Evaluation .csv'\n",
    "file_path = '/Users/sergey/Desktop/RAG_Legal_asist/RAG_Legal_assistant/Fine_tune_Embeddings/court_decisions_combined.txt'\n",
    "\n",
    "# 2. Читаем CSV и текст корпуса\n",
    "df = pd.read_csv(csv_path)\n",
    "with open(file_path, 'r', encoding='utf-8') as f:\n",
    "    text = f.read()\n",
    "\n",
    "# 3. Список для несоответствий\n",
    "mismatches = []\n",
    "\n",
    "# 4. Проходим по каждой строке и проверяем все references\n",
    "for idx, row in df.iterrows():\n",
    "    # references — JSON-строка вида [{\"content\": \"...\", \"start_index\": X, \"end_index\": Y}, ...]\n",
    "    try:\n",
    "        refs = json.loads(row['references'])\n",
    "    except json.JSONDecodeError:\n",
    "        mismatches.append((idx, 'Invalid JSON in references'))\n",
    "        continue\n",
    "\n",
    "    for ref in refs:\n",
    "        start   = ref.get('start_index')\n",
    "        end     = ref.get('end_index')\n",
    "        content = ref.get('content')\n",
    "\n",
    "        # Проверяем наличие всех полей\n",
    "        if start is None or end is None or content is None:\n",
    "            mismatches.append((idx, f'Missing fields in reference: {ref}'))\n",
    "            continue\n",
    "\n",
    "        # Проверка выхода за границы\n",
    "        if not (0 <= start < end <= len(text)):\n",
    "            mismatches.append((idx, f'Index out of range: {start}-{end}'))\n",
    "            continue\n",
    "\n",
    "        # Извлекаем сниппет и сравниваем\n",
    "        snippet = text[start:end]\n",
    "        if snippet != content:\n",
    "            mismatches.append((\n",
    "                idx,\n",
    "                f'Mismatch at {start}-{end}:\\n'\n",
    "                f'  CSV content:  {content[:50]}...\\n'\n",
    "                f'  File snippet: {snippet[:50]}...'\n",
    "            ))\n",
    "\n",
    "# 5. Вывод результатов\n",
    "if mismatches:\n",
    "    print(f\"Найдено {len(mismatches)} несоответствий. Первые 10:\")\n",
    "    for i, msg in mismatches[:10]:\n",
    "        print(f\"Row {i}: {msg}\")\n",
    "else:\n",
    "    print(\"Все отрывки совпадают с содержимым файла.\")"
   ]
  }
 ],
 "metadata": {
  "kernelspec": {
   "display_name": ".venv",
   "language": "python",
   "name": "python3"
  },
  "language_info": {
   "codemirror_mode": {
    "name": "ipython",
    "version": 3
   },
   "file_extension": ".py",
   "mimetype": "text/x-python",
   "name": "python",
   "nbconvert_exporter": "python",
   "pygments_lexer": "ipython3",
   "version": "3.12.6"
  }
 },
 "nbformat": 4,
 "nbformat_minor": 2
}
